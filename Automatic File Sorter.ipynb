{
 "cells": [
  {
   "cell_type": "code",
   "execution_count": 1,
   "id": "39bde48d-0a97-4099-a9a5-5f3ca3a2a3dd",
   "metadata": {},
   "outputs": [],
   "source": [
    "import os, shutil"
   ]
  },
  {
   "cell_type": "code",
   "execution_count": 14,
   "id": "a32b062b-77a2-4609-aca1-d52591e09ced",
   "metadata": {},
   "outputs": [],
   "source": [
    "path = r'C:\\Users\\dmaud\\OneDrive\\Documents\\Python Auto Files Project\\\\'"
   ]
  },
  {
   "cell_type": "code",
   "execution_count": 5,
   "id": "18934bc1-b2c6-4a62-9b1b-e9bc738ca6e1",
   "metadata": {},
   "outputs": [
    {
     "data": {
      "text/plain": [
       "['CSVFile.csv',\n",
       " 'FakeFile.csv',\n",
       " 'FakeFile.txt',\n",
       " 'Max.png',\n",
       " 'NewFile.txt',\n",
       " 'Rossie.png']"
      ]
     },
     "execution_count": 5,
     "metadata": {},
     "output_type": "execute_result"
    }
   ],
   "source": [
    "os.listdir(path)"
   ]
  },
  {
   "cell_type": "code",
   "execution_count": null,
   "id": "47e28d21-8416-4058-9900-d261394f7bc2",
   "metadata": {},
   "outputs": [],
   "source": [
    "#os.makefirs(path + new_folder_name)"
   ]
  },
  {
   "cell_type": "code",
   "execution_count": 15,
   "id": "e6af39b0-dd5a-4f5a-8ed4-ab97bc4f13a4",
   "metadata": {},
   "outputs": [],
   "source": [
    "folder_names = ['CSV Files', 'Text Files', 'Image Files']\n",
    "\n",
    "#C:\\Users\\dmaud\\OneDrive\\Documents\\Python Auto Files Project\\Image Files'\n",
    "\n",
    "for folder in folder_names:\n",
    "    if not os.path.exists(path + folder):\n",
    "        os.makedirs(path + folder)\n",
    "\n",
    "\n",
    "\n"
   ]
  },
  {
   "cell_type": "code",
   "execution_count": 16,
   "id": "75b2c893-863c-4770-8207-f87b9efe2135",
   "metadata": {},
   "outputs": [
    {
     "data": {
      "text/plain": [
       "['CSV Files',\n",
       " 'CSVFile.csv',\n",
       " 'FakeFile.csv',\n",
       " 'FakeFile.txt',\n",
       " 'Image Files',\n",
       " 'Max.png',\n",
       " 'NewFile.txt',\n",
       " 'Rossie.png',\n",
       " 'Text Files']"
      ]
     },
     "execution_count": 16,
     "metadata": {},
     "output_type": "execute_result"
    }
   ],
   "source": [
    "os.listdir(path)"
   ]
  },
  {
   "cell_type": "code",
   "execution_count": 20,
   "id": "a891926c-77a3-433c-9c4a-95db754cecae",
   "metadata": {},
   "outputs": [],
   "source": [
    "file_names = os.listdir(path)\n",
    "path = r'C:\\Users\\dmaud\\OneDrive\\Documents\\Python Auto Files Project\\\\'"
   ]
  },
  {
   "cell_type": "code",
   "execution_count": 21,
   "id": "a07d8af4-cb6a-470e-b603-f914f2984a6f",
   "metadata": {},
   "outputs": [],
   "source": [
    "for file in file_names:\n",
    "    if \".csv\" in file and not os.path.exists(path + \"CSV Files\\\\\" + file):\n",
    "        shutil.move(path + file, path + \"CSV Files\\\\\" + file)\n",
    "    elif \".png\" in file and not os.path.exists(path + \"Image Files\\\\\" + file):\n",
    "        shutil.move(path + file, path + \"Image Files\\\\\" + file)\n",
    "    elif \".txt\" in file and not os.path.exists(path + \"Text Files\\\\\" + file):\n",
    "        shutil.move(path + file, path + \"Text Files\\\\\" + file)\n"
   ]
  },
  {
   "cell_type": "code",
   "execution_count": 22,
   "id": "bbb76cf6-075a-4975-b5a5-6c2ad99e2e6d",
   "metadata": {},
   "outputs": [],
   "source": [
    "path = r'C:\\Users\\dmaud\\OneDrive\\Documents\\Python Auto Files Project\\\\'\n",
    "\n",
    "folder_names = ['CSV Files', 'Text Files', 'Image Files']\n",
    "\n",
    "\n",
    "for folder in folder_names:\n",
    "    if not os.path.exists(path + folder):\n",
    "        os.makedirs(path + folder)\n",
    "\n",
    "\n",
    "file_names = os.listdir(path)\n",
    "\n",
    "for file in file_names:\n",
    "    if \".csv\" in file and not os.path.exists(path + \"CSV Files\\\\\" + file):\n",
    "        shutil.move(path + file, path + \"CSV Files\\\\\" + file)\n",
    "    elif \".png\" in file and not os.path.exists(path + \"Image Files\\\\\" + file):\n",
    "        shutil.move(path + file, path + \"Image Files\\\\\" + file)\n",
    "    elif \".txt\" in file and not os.path.exists(path + \"Text Files\\\\\" + file):\n",
    "        shutil.move(path + file, path + \"Text Files\\\\\" + file)"
   ]
  },
  {
   "cell_type": "code",
   "execution_count": null,
   "id": "61ba09a1-fe32-4c3e-aeb1-99508fd6fbad",
   "metadata": {},
   "outputs": [],
   "source": []
  },
  {
   "cell_type": "code",
   "execution_count": null,
   "id": "268d969d-a38e-4a19-8edf-fb6741fcc782",
   "metadata": {},
   "outputs": [],
   "source": []
  },
  {
   "cell_type": "code",
   "execution_count": null,
   "id": "d7db185d-473e-4664-9530-a26025b4e3fa",
   "metadata": {},
   "outputs": [],
   "source": []
  },
  {
   "cell_type": "code",
   "execution_count": null,
   "id": "a0532303-d380-45e5-bac6-751f93e0db7f",
   "metadata": {},
   "outputs": [],
   "source": []
  },
  {
   "cell_type": "code",
   "execution_count": null,
   "id": "1344395b-5245-413c-9e31-13a9452a3660",
   "metadata": {},
   "outputs": [],
   "source": []
  },
  {
   "cell_type": "code",
   "execution_count": null,
   "id": "94227ce5-257e-403f-8dcd-b39937fe0d06",
   "metadata": {},
   "outputs": [],
   "source": []
  },
  {
   "cell_type": "code",
   "execution_count": null,
   "id": "cf8bdfa8-056d-440b-a8f5-5bba574c4c58",
   "metadata": {},
   "outputs": [],
   "source": []
  },
  {
   "cell_type": "code",
   "execution_count": null,
   "id": "e566a5f0-db45-4c0c-998b-cf79fa045641",
   "metadata": {},
   "outputs": [],
   "source": []
  },
  {
   "cell_type": "code",
   "execution_count": null,
   "id": "8d198643-4103-446a-a949-d315be103649",
   "metadata": {},
   "outputs": [],
   "source": []
  },
  {
   "cell_type": "code",
   "execution_count": null,
   "id": "7e87219b-1c72-4a03-88f4-202098887299",
   "metadata": {},
   "outputs": [],
   "source": []
  },
  {
   "cell_type": "code",
   "execution_count": null,
   "id": "07e25c10-1b4f-4914-b7f3-905e0d737301",
   "metadata": {},
   "outputs": [],
   "source": []
  },
  {
   "cell_type": "code",
   "execution_count": null,
   "id": "d19f32fd-0b7e-4eb5-96e3-d7d20156a42a",
   "metadata": {},
   "outputs": [],
   "source": []
  }
 ],
 "metadata": {
  "kernelspec": {
   "display_name": "Python 3 (ipykernel)",
   "language": "python",
   "name": "python3"
  },
  "language_info": {
   "codemirror_mode": {
    "name": "ipython",
    "version": 3
   },
   "file_extension": ".py",
   "mimetype": "text/x-python",
   "name": "python",
   "nbconvert_exporter": "python",
   "pygments_lexer": "ipython3",
   "version": "3.12.4"
  }
 },
 "nbformat": 4,
 "nbformat_minor": 5
}

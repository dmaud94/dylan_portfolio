{
 "cells": [
  {
   "cell_type": "code",
   "execution_count": null,
   "id": "3347a778-c645-410a-a0e9-076f8ccbbbac",
   "metadata": {},
   "outputs": [],
   "source": [
    "def add(x,y):\n",
    "    return x + y\n",
    "\n",
    "def subtract(x,y):\n",
    "    return x - y\n",
    "\n",
    "def multiply(x,y):\n",
    "    return x * y\n",
    "\n",
    "def divide(x,y):\n",
    "    return x / y\n"
   ]
  },
  {
   "cell_type": "code",
   "execution_count": null,
   "id": "e7bccc8e-a149-421b-ae17-31ac9915e025",
   "metadata": {},
   "outputs": [],
   "source": [
    "choice = input('Enter choice: (A,S,M,D): ')\n",
    "\n",
    "num1 = float(input('Enter first value: '))\n",
    "\n",
    "num2 = float(input('Enter second value: '))"
   ]
  },
  {
   "cell_type": "code",
   "execution_count": null,
   "id": "a2666136-1c7e-40a0-875f-8d1dcc5c57e3",
   "metadata": {},
   "outputs": [],
   "source": [
    "print(\"Enter 'A' for Addition.\")\n",
    "print(\"Enter 'S' for Subtraction.\")\n",
    "print(\"Enter 'M' for Multiplication.\")\n",
    "print(\"Enter 'D' for Division.\")\n",
    "\n",
    "\n",
    "\n",
    "while True:\n",
    "    choice = input('Enter choice: (A,S,M,D): ')\n",
    "    \n",
    "    if choice.upper() in ('A','ADD', 'ADDITION', 'S', 'SUBTRACT', 'SUBTRACTION', 'M', 'MULTIPLY', 'MULTIPLICATION', 'D', 'DIVIDE', 'DIVISION'):\n",
    "        num1 = float(input('Enter first value: '))\n",
    "        num2 = float(input('Enter second value: ')) \n",
    "    \n",
    "        if choice.upper() in ('A','ADD', 'ADDITION'): \n",
    "            print('Result: ',num1, '+', num2, '=', add(num1,num2))\n",
    "    \n",
    "        elif choice.upper() in ('S', 'SUBTRACT', 'SUBTRACTION'): \n",
    "            print('Result: ',num1, '-', num2, '=', subtract(num1,num2))\n",
    "    \n",
    "        elif choice.upper() in ('M', 'MULTIPLY', 'MULTIPLICATION'): \n",
    "            print('Result: ',num1, '*', num2, '=', multiply(num1,num2))\n",
    "    \n",
    "        elif choice.upper() in ('D', 'DIVIDE', 'DIVISION'): \n",
    "            print('Result: ',num1, '/', num2, '=', divide(num1,num2))\n",
    "    \n",
    "    else:\n",
    "        print('Please input a correct value.')\n",
    "\n",
    "    next_calculation = input('Would you like to perform another calucation? (yes/no?): ')\n",
    "    if next_calculation.lower() in ('no', 'n', 'nope'):\n",
    "        break"
   ]
  },
  {
   "cell_type": "code",
   "execution_count": null,
   "id": "a5adc148-d723-445c-a320-51ea9595efdc",
   "metadata": {},
   "outputs": [],
   "source": []
  },
  {
   "cell_type": "code",
   "execution_count": null,
   "id": "1e71c6ec-888c-44ef-8d57-1efce0e45d76",
   "metadata": {},
   "outputs": [],
   "source": []
  },
  {
   "cell_type": "code",
   "execution_count": null,
   "id": "45921ea4-ebcb-4469-9ba0-1dd6b6d38ad8",
   "metadata": {},
   "outputs": [],
   "source": []
  },
  {
   "cell_type": "code",
   "execution_count": null,
   "id": "a93ed750-5a2b-4a2b-a9a5-06f1de04d3f8",
   "metadata": {},
   "outputs": [],
   "source": []
  },
  {
   "cell_type": "code",
   "execution_count": null,
   "id": "6dfd9ac1-0c98-46cd-bfbf-9102bc798fc3",
   "metadata": {},
   "outputs": [],
   "source": []
  },
  {
   "cell_type": "code",
   "execution_count": null,
   "id": "36724c41-39e0-4b3a-be25-da54441552d2",
   "metadata": {},
   "outputs": [],
   "source": []
  },
  {
   "cell_type": "code",
   "execution_count": null,
   "id": "f1cb7821-ddfd-471c-a0ab-73a57c0b1411",
   "metadata": {},
   "outputs": [],
   "source": []
  },
  {
   "cell_type": "code",
   "execution_count": null,
   "id": "76f6de9a-f7d9-40af-a3c1-b01277e78ca5",
   "metadata": {},
   "outputs": [],
   "source": []
  },
  {
   "cell_type": "code",
   "execution_count": null,
   "id": "1a5995fe-cbfc-4220-a0f0-91c9648f88a1",
   "metadata": {},
   "outputs": [],
   "source": []
  },
  {
   "cell_type": "code",
   "execution_count": null,
   "id": "7fefc94c-1eab-46ae-b6d5-139118a467a8",
   "metadata": {},
   "outputs": [],
   "source": []
  },
  {
   "cell_type": "code",
   "execution_count": null,
   "id": "7864f8d9-5c92-4bc1-bc3e-6b9492fbc6a2",
   "metadata": {},
   "outputs": [],
   "source": []
  },
  {
   "cell_type": "code",
   "execution_count": null,
   "id": "f0174686-bcc0-4a3e-9781-796ff78ad5ab",
   "metadata": {},
   "outputs": [],
   "source": []
  },
  {
   "cell_type": "code",
   "execution_count": null,
   "id": "03c89781-6c12-496e-88b9-04689943fad8",
   "metadata": {},
   "outputs": [],
   "source": []
  },
  {
   "cell_type": "code",
   "execution_count": null,
   "id": "d0e5d550-da09-4327-89c9-acbba8c3d517",
   "metadata": {},
   "outputs": [],
   "source": []
  },
  {
   "cell_type": "code",
   "execution_count": null,
   "id": "529fd1b1-97af-418f-b946-f1894ba607e9",
   "metadata": {},
   "outputs": [],
   "source": []
  },
  {
   "cell_type": "code",
   "execution_count": null,
   "id": "efa88614-d076-4122-8eae-eca35caa6674",
   "metadata": {},
   "outputs": [],
   "source": []
  }
 ],
 "metadata": {
  "kernelspec": {
   "display_name": "Python 3 (ipykernel)",
   "language": "python",
   "name": "python3"
  },
  "language_info": {
   "codemirror_mode": {
    "name": "ipython",
    "version": 3
   },
   "file_extension": ".py",
   "mimetype": "text/x-python",
   "name": "python",
   "nbconvert_exporter": "python",
   "pygments_lexer": "ipython3",
   "version": "3.12.4"
  }
 },
 "nbformat": 4,
 "nbformat_minor": 5
}

{
 "cells": [
  {
   "cell_type": "code",
   "execution_count": 7,
   "id": "fa62b911-2a17-4c11-986d-78291e394312",
   "metadata": {},
   "outputs": [
    {
     "name": "stdin",
     "output_type": "stream",
     "text": [
      "Enter starting unit of measurement (inches, feet, yards):  inches\n",
      "Enter unit of measurement to convert to (inches, feet, yards):  feet\n",
      "Enter starting measurment in inches:  24\n",
      "Enter starting measurment in feet:  3\n",
      "Enter starting measurment in yards:  1\n"
     ]
    }
   ],
   "source": [
    "convert_from = input('Enter starting unit of measurement (inches, feet, yards): ')\n",
    "\n",
    "convert_to = input('Enter unit of measurement to convert to (inches, feet, yards): ')\n",
    "\n",
    "number_of_inches = input('Enter starting measurment in inches: ')\n",
    "\n",
    "number_of_feet = input('Enter starting measurment in feet: ')\n",
    "\n",
    "number_of_yards = input('Enter starting measurment in yards: ')"
   ]
  },
  {
   "cell_type": "code",
   "execution_count": 46,
   "id": "8136ec0f-5358-4d7d-8ade-6c75de29b346",
   "metadata": {},
   "outputs": [
    {
     "name": "stdin",
     "output_type": "stream",
     "text": [
      "Enter starting unit of measurement (inches, feet, yards):  feet\n",
      "Enter unit of measurement to convert to (inches, feet, yards):  yard\n",
      "Enter starting measurment in feet:  5\n"
     ]
    },
    {
     "name": "stdout",
     "output_type": "stream",
     "text": [
      "Result: 5 feet = 1.67 yards\n"
     ]
    }
   ],
   "source": [
    "convert_from = input('Enter starting unit of measurement (inches, feet, yards): ')\n",
    "convert_to = input('Enter unit of measurement to convert to (inches, feet, yards): ')\n",
    "\n",
    "if convert_from.lower() in ['inches', 'in', 'inch']: \n",
    "    number_of_inches = int(input('Enter starting measurment in inches: '))\n",
    "    if convert_to.lower() in ['feet', 'foot', 'ft']:\n",
    "        print('Result: ' + str(number_of_inches) + ' inches = ' + str(round(number_of_inches / 12,2)) + ' feet')\n",
    "    elif convert_to.lower() in ['yards', 'yard', 'yds', 'yd']: \n",
    "        print('Result: ' + str(number_of_inches) + ' inches = ' + str(round(number_of_inches / 36,2)) + ' yards')\n",
    "    else: \n",
    "        print('Please enter either inches, feet, or yards.')\n",
    "\n",
    "elif convert_from.lower() in ['feet', 'foot', 'ft']: \n",
    "    number_of_feet = int(input('Enter starting measurment in feet: '))\n",
    "    if convert_to.lower() in ['inches', 'in', 'inch']: \n",
    "        print('Result: ' + str(number_of_feet) + ' feet = ' + str(round(number_of_feet * 12)) + ' inches')\n",
    "    elif convert_to.lower() in ['yards', 'yard', 'yds', 'yd']:\n",
    "        print('Result: ' + str(number_of_feet) + ' feet = ' + str(round(number_of_feet / 3,2)) + ' yards')\n",
    "    else: \n",
    "        print('Please enter either inches, feet, or yards.')\n",
    "\n",
    "elif convert_from.lower() in ['yards', 'yard', 'yds', 'yd']: \n",
    "    number_of_yards = int(input('Enter starting measurment in yards: ') )   \n",
    "    if convert_to.lower() in ['inches', 'in', 'inch']:\n",
    "        print('Result: ' + str(number_of_yards) + ' yards = ' + str(round(number_of_yards * 36)) + ' inches')\n",
    "    elif convert_to.lower() in ['feet', 'foot', 'ft']:\n",
    "        print('Result: ' + str(number_of_yards) + ' yards = ' + str(round(number_of_yards * 3)) + ' feet')\n",
    "    else: \n",
    "        print('Please enter either inches, feet, or yards.')\n",
    "\n",
    "else:\n",
    "    print('Please enter either inches, feet, or yards.')  "
   ]
  },
  {
   "cell_type": "code",
   "execution_count": null,
   "id": "d48fb8b3-cfb5-4ef1-ac36-a46d57a8747e",
   "metadata": {},
   "outputs": [],
   "source": []
  },
  {
   "cell_type": "code",
   "execution_count": null,
   "id": "ae07f210-1861-4efb-8058-695d25cd6657",
   "metadata": {},
   "outputs": [],
   "source": []
  },
  {
   "cell_type": "code",
   "execution_count": null,
   "id": "345567cb-5c5c-4c3b-89da-4f4677458642",
   "metadata": {},
   "outputs": [],
   "source": []
  },
  {
   "cell_type": "code",
   "execution_count": null,
   "id": "db87388e-a81e-4e4e-9125-ac1bd9cbefa3",
   "metadata": {},
   "outputs": [],
   "source": []
  },
  {
   "cell_type": "code",
   "execution_count": null,
   "id": "1b8244d2-b1bd-4264-9a6b-a94f9047e143",
   "metadata": {},
   "outputs": [],
   "source": []
  },
  {
   "cell_type": "code",
   "execution_count": null,
   "id": "7789d503-49cb-4e3a-b76f-f0d3cc28b944",
   "metadata": {},
   "outputs": [],
   "source": []
  },
  {
   "cell_type": "code",
   "execution_count": null,
   "id": "0968cb86-3687-46c0-b4bf-bae510ef0fa4",
   "metadata": {},
   "outputs": [],
   "source": []
  },
  {
   "cell_type": "code",
   "execution_count": null,
   "id": "9bf5d729-5b83-414d-a032-6843b81945aa",
   "metadata": {},
   "outputs": [],
   "source": []
  },
  {
   "cell_type": "code",
   "execution_count": null,
   "id": "f3d3e59f-e247-45ac-b217-fd1bdf4d31a0",
   "metadata": {},
   "outputs": [],
   "source": []
  },
  {
   "cell_type": "code",
   "execution_count": null,
   "id": "d90e29d9-4f4e-4d94-8222-cb8a5323dcf5",
   "metadata": {},
   "outputs": [],
   "source": []
  }
 ],
 "metadata": {
  "kernelspec": {
   "display_name": "Python 3 (ipykernel)",
   "language": "python",
   "name": "python3"
  },
  "language_info": {
   "codemirror_mode": {
    "name": "ipython",
    "version": 3
   },
   "file_extension": ".py",
   "mimetype": "text/x-python",
   "name": "python",
   "nbconvert_exporter": "python",
   "pygments_lexer": "ipython3",
   "version": "3.12.4"
  }
 },
 "nbformat": 4,
 "nbformat_minor": 5
}
